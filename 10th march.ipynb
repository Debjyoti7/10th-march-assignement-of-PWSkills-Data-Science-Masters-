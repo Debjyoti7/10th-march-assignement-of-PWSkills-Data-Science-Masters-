{
 "cells": [
  {
   "cell_type": "markdown",
   "id": "29bd7ccb-0162-410d-a6b3-ab38aa824480",
   "metadata": {},
   "source": [
    "# Q1: What is Estimation Statistics? Explain point estimate and interval estimate."
   ]
  },
  {
   "cell_type": "markdown",
   "id": "38824567-6f49-4b3e-ad1a-3c0c4e3d21f5",
   "metadata": {},
   "source": [
    "## Estimation statistics is a branch of statistics that deals with estimating unknown parameters or characteristics of a population based on sample data.\n",
    "\n",
    "## Point estimate is a single value that is used to estimate an unknown population parameter. For example, if we want to estimate the population mean, we can use the sample mean as a point estimate of the population mean. Point estimates can be calculated using a variety of statistics, such as the sample mean, sample proportion, or sample standard deviation. However, point estimates may not always be accurate and may differ from the true population parameter.\n",
    "\n",
    "## Interval estimate, also known as confidence interval, is a range of values that is used to estimate an unknown population parameter with a certain level of confidence. For example, a 95% confidence interval for the population mean would be a range of values that we are 95% confident that the true population mean falls within. Interval estimates provide a more accurate estimate of the population parameter compared to point estimates, as they take into account the variability of the sample data. The width of the interval estimate depends on the level of confidence desired and the variability of the sample data.\n",
    "\n",
    "## Interval estimates are commonly used in hypothesis testing and decision-making, as they provide information about the precision and accuracy of the estimate. The wider the confidence interval, the less precise the estimate, and the less information we have about the true value of the population parameter. On the other hand, a narrow confidence interval provides more precise information about the population parameter."
   ]
  },
  {
   "cell_type": "markdown",
   "id": "c3b9cf36-6cf5-42b9-899d-795a1ca84e4f",
   "metadata": {},
   "source": [
    "# Q2. Write a Python function to estimate the population mean using a sample mean and standard deviation."
   ]
  },
  {
   "cell_type": "code",
   "execution_count": 2,
   "id": "44d73460-e528-4e30-aa48-16abcb3bdaa1",
   "metadata": {},
   "outputs": [],
   "source": [
    "def estimate_population_mean(sample_mean, sample_std, sample_size):\n",
    "    import math\n",
    "    # calculate the standard error\n",
    "    std_error = sample_std / math.sqrt(sample_size)\n",
    "    # calculate the lower and upper bounds of the 95% confidence interval\n",
    "    lower_bound = sample_mean - 1.96 * std_error\n",
    "    upper_bound = sample_mean + 1.96 * std_error\n",
    "    # return the estimated population mean and 95% confidence interval\n",
    "    return (sample_mean, (lower_bound, upper_bound))\n"
   ]
  },
  {
   "cell_type": "code",
   "execution_count": 3,
   "id": "b80c93df-4098-43ce-a6be-946277d9da4d",
   "metadata": {},
   "outputs": [
    {
     "data": {
      "text/plain": [
       "(25, (24.706, 25.294))"
      ]
     },
     "execution_count": 3,
     "metadata": {},
     "output_type": "execute_result"
    }
   ],
   "source": [
    "estimate_population_mean(25,1.5,100)"
   ]
  },
  {
   "cell_type": "markdown",
   "id": "839f1f4e-4541-4b85-b686-085edd17bdab",
   "metadata": {},
   "source": [
    "# Q3: What is Hypothesis testing? Why is it used? State the importance of Hypothesis testing."
   ]
  },
  {
   "cell_type": "markdown",
   "id": "d4fd2f0a-36c8-4510-adc6-584f3f59f902",
   "metadata": {},
   "source": [
    "## Hypothesis testing is a statistical method used to make decisions about a population based on a sample of data. It involves formulating a hypothesis about a population parameter (e.g., population mean) and testing it against an alternative hypothesis using sample data. The goal is to determine whether there is enough evidence to reject the null hypothesis and accept the alternative hypothesis, or whether the null hypothesis should be retained.\n",
    "\n",
    "## Hypothesis testing is used to make inferences about populations based on samples, and to test scientific or research hypotheses. It is commonly used in fields such as psychology, biology, economics, engineering, and others to test the effectiveness of interventions, compare groups or treatments, and make predictions based on data.\n",
    "\n",
    "## The importance of hypothesis testing lies in its ability to provide a systematic and objective approach to decision making based on data. It helps to reduce bias and subjectivity in decision making, and to ensure that decisions are based on evidence rather than intuition or personal opinion. It also allows researchers and practitioners to draw conclusions about populations based on sample data, which can inform future research, policies, or interventions."
   ]
  },
  {
   "cell_type": "markdown",
   "id": "9424f0b9-bcf3-425e-ab0d-2f0a4d1b3cdd",
   "metadata": {},
   "source": [
    "# Q4. Create a hypothesis that states whether the average weight of male college students is greater than the average weight of female college students."
   ]
  },
  {
   "cell_type": "markdown",
   "id": "4c7bc4d2-a48c-46ec-8d27-ee5bcafee233",
   "metadata": {},
   "source": [
    "## The null hypothesis for this research question could be: \"There is no significant difference between the average weight of male and female college students.\"\n",
    "\n",
    "## The alternative hypothesis could be: \"The average weight of male college students is greater than the average weight of female college students.\""
   ]
  },
  {
   "cell_type": "markdown",
   "id": "1a24b5de-46bf-4a01-8304-19b7b0df3fc8",
   "metadata": {},
   "source": [
    "# Q5. Write a Python script to conduct a hypothesis test on the difference between two population means, given a sample from each population."
   ]
  },
  {
   "cell_type": "code",
   "execution_count": 4,
   "id": "26a28a8f-d467-46b3-8a78-a3a12890b523",
   "metadata": {},
   "outputs": [
    {
     "name": "stdout",
     "output_type": "stream",
     "text": [
      "Sample 1 Mean: 3.00\n",
      "Sample 2 Mean: 6.00\n",
      "Pooled Standard Deviation: 2.50\n",
      "t-statistic: -1.90\n",
      "p-value: 0.09\n"
     ]
    }
   ],
   "source": [
    "import numpy as np\n",
    "from scipy.stats import t\n",
    "\n",
    "# Define the sample data\n",
    "x1 = np.array([1, 2, 3, 4, 5])\n",
    "x2 = np.array([2, 4, 6, 8, 10])\n",
    "\n",
    "# Calculate the sample means and standard deviations\n",
    "mean1 = np.mean(x1)\n",
    "mean2 = np.mean(x2)\n",
    "std1 = np.std(x1, ddof=1)\n",
    "std2 = np.std(x2, ddof=1)\n",
    "\n",
    "# Calculate the pooled standard deviation\n",
    "pooled_std = np.sqrt(((len(x1)-1)*(std1**2) + (len(x2)-1)*(std2**2)) / (len(x1) + len(x2) - 2))\n",
    "\n",
    "# Calculate the t-statistic and p-value\n",
    "t_stat = (mean1 - mean2) / (pooled_std * np.sqrt((1/len(x1)) + (1/len(x2))))\n",
    "p_value = t.sf(abs(t_stat), len(x1) + len(x2) - 2) * 2\n",
    "\n",
    "# Print the results\n",
    "print(\"Sample 1 Mean: {:.2f}\".format(mean1))\n",
    "print(\"Sample 2 Mean: {:.2f}\".format(mean2))\n",
    "print(\"Pooled Standard Deviation: {:.2f}\".format(pooled_std))\n",
    "print(\"t-statistic: {:.2f}\".format(t_stat))\n",
    "print(\"p-value: {:.2f}\".format(p_value))\n"
   ]
  },
  {
   "cell_type": "markdown",
   "id": "3d6e7b95-cc76-4397-a694-6474e1aa75e1",
   "metadata": {},
   "source": [
    "# Q6: What is a null and alternative hypothesis? Give some examples."
   ]
  },
  {
   "cell_type": "markdown",
   "id": "df474e37-07e8-47dd-b676-abe007c5baf2",
   "metadata": {},
   "source": [
    "## In statistical hypothesis testing, the null hypothesis is a statement that assumes there is no difference or relationship between two populations or variables. The alternative hypothesis, on the other hand, is a statement that assumes there is a difference or relationship between the two populations or variables.\n",
    "\n",
    "## Examples of null and alternative hypotheses:\n",
    "\n",
    "## 1. Null Hypothesis: There is no difference in the mean weight of apples produced by two different methods.\n",
    "## Alternative Hypothesis: There is a difference in the mean weight of apples produced by two different methods.\n",
    "\n",
    "## 2. Null Hypothesis: There is no relationship between smoking and lung cancer.\n",
    "## Alternative Hypothesis: There is a relationship between smoking and lung cancer.\n",
    "\n",
    "## 3. Null Hypothesis: The new drug has no effect on reducing cholesterol levels in patients.\n",
    "## Alternative Hypothesis: The new drug has an effect on reducing cholesterol levels in patients.\n",
    "\n",
    "## 4. Null Hypothesis: The proportion of defective items in a batch is not greater than 5%.\n",
    "## Alternative Hypothesis: The proportion of defective items in a batch is greater than 5%."
   ]
  },
  {
   "cell_type": "markdown",
   "id": "7ce213ea-efb7-488f-be11-4b2e7b37a765",
   "metadata": {},
   "source": [
    "# Q7: Write down the steps involved in hypothesis testing."
   ]
  },
  {
   "cell_type": "markdown",
   "id": "6c2bdd33-7671-4c37-9455-2ec51b17e080",
   "metadata": {},
   "source": [
    "## The following are the steps involved in hypothesis testing:\n",
    "\n",
    "## 1. State the null hypothesis and the alternative hypothesis.\n",
    "## 2. Choose an appropriate statistical test based on the type of data and the hypothesis being tested.\n",
    "## 3. Determine the level of significance (alpha) and the appropriate test statistic to use.\n",
    "## 4. Collect the data and calculate the test statistic.\n",
    "## 5. Determine the p-value associated with the test statistic.\n",
    "## 6. Compare the p-value to the level of significance (alpha) and make a decision whether to reject or fail to reject the null hypothesis.\n",
    "## 7. Draw a conclusion and interpret the results in the context of the problem being studied."
   ]
  },
  {
   "cell_type": "markdown",
   "id": "62573a8a-53ae-47c7-9ed3-cd320aeb5500",
   "metadata": {},
   "source": [
    "# Q8. Define p-value and explain its significance in hypothesis testing."
   ]
  },
  {
   "cell_type": "markdown",
   "id": "e43c2f0f-a36c-44ef-9e0e-a23ce241df47",
   "metadata": {},
   "source": [
    "## The p-value, or probability value, is the probability of observing a test statistic as extreme as, or more extreme than, the one calculated from the sample data, assuming that the null hypothesis is true. In other words, it represents the strength of evidence against the null hypothesis.\n",
    "\n",
    "## The significance of the p-value in hypothesis testing is that it helps in making a decision on whether to reject or fail to reject the null hypothesis. The p-value is compared to the level of significance (alpha), which is typically set at 0.05 or 0.01, to determine if the result is statistically significant or not.\n",
    "\n",
    "## If the p-value is less than or equal to the level of significance (alpha), then the result is statistically significant and we reject the null hypothesis. This means that we have strong evidence against the null hypothesis and can conclude that the alternative hypothesis is true. On the other hand, if the p-value is greater than the level of significance, then the result is not statistically significant and we fail to reject the null hypothesis. This means that we do not have enough evidence to conclude that the alternative hypothesis is true.\n",
    "\n",
    "## Therefore, the p-value plays a crucial role in hypothesis testing as it helps in making a decision on whether to accept or reject the null hypothesis, based on the strength of evidence against it.\n",
    "\n",
    "\n",
    "\n"
   ]
  },
  {
   "cell_type": "markdown",
   "id": "fe0e154d-a53d-44ca-9dcb-dc7054672f18",
   "metadata": {},
   "source": [
    "# Q9. Generate a Student's t-distribution plot using Python's matplotlib library, with the degrees of freedom parameter set to 10."
   ]
  },
  {
   "cell_type": "code",
   "execution_count": 5,
   "id": "387e574a-2bd8-4d22-9fe1-a9340f5b8d2b",
   "metadata": {},
   "outputs": [
    {
     "data": {
      "image/png": "[encoded data removed]",
      "text/plain": [
       "<Figure size 640x480 with 1 Axes>"
      ]
     },
     "metadata": {},
     "output_type": "display_data"
    }
   ],
   "source": [
    "import numpy as np\n",
    "import matplotlib.pyplot as plt\n",
    "from scipy.stats import t\n",
    "\n",
    "# Define the degrees of freedom\n",
    "df = 10\n",
    "\n",
    "# Generate the x-values\n",
    "x = np.linspace(-5, 5, 1000)\n",
    "\n",
    "# Generate the y-values for the t-distribution\n",
    "y = t.pdf(x, df)\n",
    "\n",
    "# Plot the t-distribution\n",
    "plt.plot(x, y)\n",
    "\n",
    "# Add a title and axis labels\n",
    "plt.title(\"Student's t-distribution with 10 degrees of freedom\")\n",
    "plt.xlabel(\"x\")\n",
    "plt.ylabel(\"Probability density\")\n",
    "\n",
    "# Display the plot\n",
    "plt.show()\n"
   ]
  },
  {
   "cell_type": "markdown",
   "id": "0044659a-0c6e-4ab7-88c3-2ce9ce23c673",
   "metadata": {},
   "source": [
    "# Q10. Write a Python program to calculate the two-sample t-test for independent samples, given two random samples of equal size and a null hypothesis that the population means are equal."
   ]
  },
  {
   "cell_type": "code",
   "execution_count": 6,
   "id": "6dc42eaa-7f3c-4c1d-b175-3d6196726faa",
   "metadata": {},
   "outputs": [
    {
     "name": "stdout",
     "output_type": "stream",
     "text": [
      "t-statistic: -6.049392726302965\n",
      "p-value: 7.140452784149436e-09\n"
     ]
    }
   ],
   "source": [
    "import numpy as np\n",
    "from scipy.stats import ttest_ind\n",
    "\n",
    "# generate two random samples\n",
    "sample1 = np.random.normal(10, 2, 100)\n",
    "sample2 = np.random.normal(12, 2, 100)\n",
    "\n",
    "# calculate the t-statistic and p-value\n",
    "t_statistic, p_value = ttest_ind(sample1, sample2)\n",
    "\n",
    "# print the results\n",
    "print(\"t-statistic:\", t_statistic)\n",
    "print(\"p-value:\", p_value)\n"
   ]
  },
  {
   "cell_type": "markdown",
   "id": "6b5ab8da-4338-487f-9622-8460b89cd0e4",
   "metadata": {},
   "source": [
    "# Q11: What is Student’s t distribution? When to use the t-Distribution."
   ]
  },
  {
   "cell_type": "markdown",
   "id": "82800d57-7b4a-469d-b880-90b3704d5c52",
   "metadata": {},
   "source": [
    "## Student’s t-distribution is a probability distribution that arises when estimating the mean of a normally distributed population in situations where the sample size is small (typically n < 30) and/or the population standard deviation is unknown.\n",
    "\n",
    "## The t-distribution is used when the population standard deviation is not known, and the sample size is small (n < 30). It is commonly used in hypothesis testing to determine whether the difference between two means is statistically significant. The t-distribution allows for the calculation of the probability that the difference between the two means could have occurred by chance, given the sample size and the variability of the data."
   ]
  },
  {
   "cell_type": "markdown",
   "id": "b9cd73f5-f5be-4af9-af6d-ace5ea7ea84d",
   "metadata": {},
   "source": [
    "# Q12: What is t-statistic? State the formula for t-statistic."
   ]
  },
  {
   "cell_type": "markdown",
   "id": "c9f8a046-4629-4b2c-9e3f-30425fe5318d",
   "metadata": {},
   "source": [
    "## The t-statistic is a measure of the difference between the sample mean and the population mean, normalized by the standard error of the sample mean. It is used to test hypotheses about the population mean when the population standard deviation is unknown.\n",
    "\n",
    "## The formula for t-statistic is:\n",
    "\n",
    "## t = (x̄ - μ) / (s / √n)\n",
    "\n",
    "## where x̄ is the sample mean, μ is the population mean (specified by the null hypothesis), s is the sample standard deviation, n is the sample size, and √n denotes the square root of n."
   ]
  },
  {
   "cell_type": "markdown",
   "id": "89e9002d-dafe-429b-b4c3-cf0e1eccdd35",
   "metadata": {},
   "source": [
    "# Q13. A coffee shop owner wants to estimate the average daily revenue for their shop. They take a random sample of 50 days and find the sample mean revenue to be $500 with  a  standard deviation of $50. Estimate the population mean revenue with a 95% confidence interval."
   ]
  },
  {
   "cell_type": "markdown",
   "id": "bf554a88-cd60-46de-a253-6e06bcb0e5a5",
   "metadata": {},
   "source": [
    "## To estimate the population mean revenue with a 95% confidence interval, we can use the following formula:\n",
    "\n",
    "## CI = X̄ ± t*(s/√n)\n",
    "\n",
    "## where:\n",
    "## X̄ = sample mean revenue = $500\n",
    "## s = sample standard deviation = $50\n",
    "## n = sample size = 50\n",
    "## t = t-value with 49 degrees of freedom and a 95% confidence level\n",
    "\n",
    "## The t-value can be obtained from a t-table or using Python's scipy.stats module. For a 95% confidence level and 49 degrees of freedom, the t-value is approximately 2.009.\n",
    "\n",
    "## Substituting the values, we get:\n",
    "\n",
    "## CI = $500 ± 2.009 * ($50/√50)\n",
    "## CI = $500 ± $14.17\n",
    "## CI = ($485.83, $514.17)\n",
    "\n",
    "## Therefore, we can be 95% confident that the true population mean revenue falls between $485.83 and $514.17."
   ]
  },
  {
   "cell_type": "markdown",
   "id": "91fdebb2-f243-40b0-b743-48c1f80644aa",
   "metadata": {},
   "source": [
    "# Q14. A researcher hypothesizes that a new drug will decrease blood pressure by 10 mmHg. They conduct a clinical trial with 100 patients and find that the sample mean decrease in blood pressure is 8 mmHg with a standard deviation of 3 mmHg. Test the hypothesis with a significance level of 0.05."
   ]
  },
  {
   "cell_type": "markdown",
   "id": "3e94fbaf-dd89-4965-9b7c-1cada2f49ee0",
   "metadata": {},
   "source": [
    "## To test the hypothesis, we can use a one-sample t-test, where:\n",
    "\n",
    "## Null hypothesis: The new drug will not decrease blood pressure by 10 mmHg\n",
    "## Alternative hypothesis: The new drug will decrease blood pressure by 10 mmHg\n",
    "\n",
    "## We can use a significance level of 0.05, which means that we will reject the null hypothesis if the p-value is less than 0.05.\n",
    "\n",
    "## The formula for the t-statistic is:\n",
    "\n",
    "## t = (x̄ - μ) / (s / sqrt(n))\n",
    "\n",
    "## where x̄ is the sample mean, μ is the hypothesized population mean (10 mmHg decrease), s is the sample standard deviation, and n is the sample size.\n",
    "\n",
    "## Plugging in the values, we get:\n",
    "\n",
    "## t = (8 - 10) / (3 / sqrt(100))\n",
    "## t = -2 / 0.3\n",
    "## t = -6.67\n",
    "\n",
    "## Using a t-table with 99 degrees of freedom (n - 1), we find that the p-value for a two-tailed test with a t-value of -6.67 is less than 0.001. This means that the probability of observing a sample mean of 8 or less, assuming that the null hypothesis is true, is less than 0.001.\n",
    "\n",
    "## Since the p-value is less than 0.05, we reject the null hypothesis and conclude that the new drug does decrease blood pressure by 10 mmHg."
   ]
  },
  {
   "cell_type": "markdown",
   "id": "a503571b-21b3-46d3-9e74-519352d3948d",
   "metadata": {},
   "source": [
    "# Q15. An electronics company produces a certain type of product with a mean weight of 5 pounds and a standard deviation of 0.5 pounds. A random sample of 25 products is taken, and the sample mean weight is found to be 4.8 pounds. Test the hypothesis that the true mean weight of the products is less than 5 pounds with a significance level of 0.01."
   ]
  },
  {
   "cell_type": "markdown",
   "id": "696cb961-7455-4212-8010-f93b40144de7",
   "metadata": {},
   "source": [
    "## $H_0$: $\\mu \\geq 5$ (The true mean weight is greater than or equal to 5 pounds)\n",
    "\n",
    "## $H_1$: $\\mu < 5$ (The true mean weight is less than 5 pounds)\n",
    "\n",
    "## We can use a one-sample t-test to test this hypothesis, with the test statistic given by:\n",
    "\n",
    "## $t = \\frac{\\bar{x} - \\mu_0}{s/\\sqrt{n}}$\n",
    "\n",
    "## where $\\bar{x}$ is the sample mean, $s$ is the sample standard deviation, $\\mu_0$ is the hypothesized population mean under the null hypothesis, and $n$ is the sample size.\n",
    "\n",
    "## The test statistic follows a t-distribution with $n-1$ degrees of freedom.\n",
    "\n",
    "## The p-value for this test is the probability of getting a t-statistic as extreme or more extreme than the one we observed, assuming that the null hypothesis is true.\n",
    "\n",
    "## Using a significance level of 0.01, we reject the null hypothesis if the p-value is less than 0.01.\n",
    "\n",
    "## In this case, the test statistic is:\n",
    "\n",
    "## $t = \\frac{4.8 - 5}{0.5/\\sqrt{25}} = -2$\n",
    "\n",
    "## The degrees of freedom for the t-distribution is 24 (25-1).\n",
    "\n",
    "## Using a t-table or a calculator, we find that the p-value for this test is approximately 0.029. Since the p-value is less than 0.01, we reject the null hypothesis.\n",
    "\n",
    "## Therefore, we can conclude that there is evidence to suggest that the true mean weight of the products is less than 5 pounds."
   ]
  },
  {
   "cell_type": "markdown",
   "id": "fe86ebe7-f905-4cdf-b4ce-42f8cd034da5",
   "metadata": {},
   "source": [
    "# Q16. Two groups of students are given different study materials to prepare for a test. The first group (n1 = 30) has a mean score of 80 with a standard deviation of 10, and the second group (n2 = 40) has a mean score of 75 with a standard deviation of 8. Test the hypothesis that the population means for the two groups are equal with a significance level of 0.01."
   ]
  },
  {
   "cell_type": "markdown",
   "id": "bc2d49d0-52dc-4421-a2c7-97af11fb4414",
   "metadata": {},
   "source": [
    "## To test the hypothesis that the population means for the two groups are equal, we can use a two-sample t-test for independent samples. The null hypothesis is that the population means are equal, and the alternative hypothesis is that they are not equal.\n",
    "\n",
    "## Null hypothesis: µ1 = µ2\n",
    "\n",
    "## Alternative hypothesis: µ1 ≠ µ2\n",
    "\n",
    "## Significance level: α = 0.01\n",
    "\n",
    "## We can calculate the test statistic as follows:\n",
    "\n",
    "## t = (x1 - x2) / sqrt((s1^2 / n1) + (s2^2 / n2))\n",
    "\n",
    "## where x1 and x2 are the sample means, s1 and s2 are the sample standard deviations, and n1 and n2 are the sample sizes.\n",
    "\n",
    "## Substituting the given values, we get:\n",
    "\n",
    "## t = (80 - 75) / sqrt((10^2 / 30) + (8^2 / 40)) = 2.51\n",
    "\n",
    "## The degrees of freedom for the t-distribution are (n1 + n2 - 2) = 68.\n",
    "\n",
    "## Using a t-table or a calculator, we can find the critical t-value for a two-tailed test with 68 degrees of freedom and a significance level of 0.01. The critical t-value is 2.646.\n",
    "\n",
    "## Since the calculated t-value (2.51) is less than the critical t-value (2.646), we fail to reject the null hypothesis. Therefore, we do not have sufficient evidence to conclude that the population means are different at a significance level of 0.01"
   ]
  },
  {
   "cell_type": "code",
   "execution_count": null,
   "id": "e2f77032-08f2-46f9-8286-bf423ae9651a",
   "metadata": {},
   "outputs": [],
   "source": [
    "# Q17. A marketing company wants to estimate the average number of ads watched by viewers during a TV program. They take a random sample of 50 viewers and find that the sample mean is 4 with a standard deviation of 1.5. Estimate the population mean with a 99% confidence interval."
   ]
  }
 ],
 "metadata": {
  "kernelspec": {
   "display_name": "Python 3 (ipykernel)",
   "language": "python",
   "name": "python3"
  },
  "language_info": {
   "codemirror_mode": {
    "name": "ipython",
    "version": 3
   },
   "file_extension": ".py",
   "mimetype": "text/x-python",
   "name": "python",
   "nbconvert_exporter": "python",
   "pygments_lexer": "ipython3",
   "version": "3.10.8"
  }
 },
 "nbformat": 4,
 "nbformat_minor": 5
}
